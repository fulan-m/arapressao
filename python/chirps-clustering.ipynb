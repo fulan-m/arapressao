{
 "cells": [
  {
   "cell_type": "code",
   "execution_count": null,
   "id": "39def924",
   "metadata": {},
   "outputs": [],
   "source": [
    "import ee\n",
    "import geemap\n",
    "import geopandas as gpd\n",
    "\n",
    "ee.Authenticate()\n",
    "\n",
    "ee.Initialize(project='ee-mhfulan-ic')"
   ]
  },
  {
   "cell_type": "code",
   "execution_count": null,
   "id": "017f1097",
   "metadata": {},
   "outputs": [],
   "source": [
    "import os\n",
    "import sys\n",
    "\n",
    "print()"
   ]
  },
  {
   "cell_type": "code",
   "execution_count": null,
   "id": "337e6c11",
   "metadata": {},
   "outputs": [],
   "source": [
    "# Load arapressao shapefile as GeoDataFrame\n",
    "arapressao = gpd.read_file(f\"{(os.path.abspath(\"\")).strip('python')}\\example-data/arapressao-limits/arapressao.shp\")\n",
    "\n",
    "# GeoDtaFrame to ee.FeatureCollection\n",
    "arapressao = geemap.geopandas_to_ee(arapressao)"
   ]
  },
  {
   "cell_type": "code",
   "execution_count": null,
   "id": "f4417aac",
   "metadata": {},
   "outputs": [],
   "source": [
    "start_year = 1985\n",
    "end_year = 2022\n",
    "\n",
    "scale_chirps = 5000\n",
    "sample_num_pixels = 300\n",
    "sample_num_clusters = 8\n",
    "\n",
    "# LOADS STUDY AREA SHAPEFILE AS 'arapressao'\n",
    "study_area_feature_collection = ee.FeatureCollection(arapressao)\n",
    "study_area = study_area_feature_collection.geometry()\n",
    "\n",
    "# ----- CHIRPS -----\n",
    "collection_chirps = ee.ImageCollection(\"UCSB-CHG/CHIRPS/PENTAD\").select(\"precipitation\")\n",
    "\n",
    "accumulated_chirps = collection_chirps \\\n",
    "    .filter(ee.Filter.calendarRange(start_year, end_year, 'year')) \\\n",
    "    .sum() \\\n",
    "    .clip(study_area) \\\n",
    "    .set('year', end_year) \\\n",
    "    .set('system:time_start', ee.Date.fromYMD(start_year, 1, 1))\n",
    "\n",
    "def apply_kmeans(image, num_clusters):\n",
    "    training = image.sample(\n",
    "        region=study_area,\n",
    "        scale=scale_chirps,\n",
    "        numPixels=sample_num_pixels\n",
    "    )\n",
    "    \n",
    "    clusterer = ee.Clusterer.wekaKMeans(num_clusters).train(training)\n",
    "    result = image.cluster(clusterer)\n",
    "    \n",
    "    return result.set('year', image.get('year')) \\\n",
    "        .set('system:time_start', image.get('system:time_start'))\n",
    "\n",
    "clustered_chirps = apply_kmeans(accumulated_chirps, sample_num_clusters)\n",
    "\n",
    "def add_year_band(image, year):\n",
    "    return image.addBands(ee.Image.constant(year).rename('year')).float()\n",
    "\n",
    "def create_year_image(year):\n",
    "    year = ee.Number(year)\n",
    "    startDate = ee.Date.fromYMD(year, 1, 1)\n",
    "    endDate = ee.Date.fromYMD(year.add(1), 1, 1)\n",
    "\n",
    "    annualImage = ee.ImageCollection(\"UCSB-CHG/CHIRPS/PENTAD\") \\\n",
    "                  .filterDate(startDate, endDate) \\\n",
    "                  .select('precipitation') \\\n",
    "                  .sum()\n",
    "\n",
    "    return add_year_band(annualImage, year).set('year', year)\n",
    "\n",
    "annual_collection = ee.List.sequence(start_year, end_year).map(create_year_image)\n",
    "annual_collection = ee.ImageCollection(annual_collection)\n",
    "\n",
    "sens_slope = annual_collection.select(['year', 'precipitation']).reduce(ee.Reducer.sensSlope()).clip(study_area)\n",
    "\n",
    "clean_sens_slope = sens_slope.select('slope').clip(study_area)\n",
    "\n",
    "sens_slope_clustered = apply_kmeans(clean_sens_slope, sample_num_clusters)\n",
    "\n",
    "# Corrected focalMean call\n",
    "smoothed_sens_slope_clustered = apply_kmeans(\n",
    "    clean_sens_slope.focalMean(radius=15000, units='meters').clip(study_area), \n",
    "    sample_num_clusters\n",
    ")"
   ]
  },
  {
   "cell_type": "code",
   "execution_count": null,
   "id": "7881e9be",
   "metadata": {},
   "outputs": [],
   "source": [
    "Map = geemap.Map(center = [-21, -50.5], zoom = 7)\n",
    "Map.addLayer(clustered_chirps, {'min':0, 'max':7, 'palette':['#fde725', '#a0da39', '#4ac16d', '#1fa187', '#277f8e', '#365c8d', '#46327e', '#440154']}, 'KMeans CHIRPS')\n",
    "Map.addLayer(sens_slope_clustered, {'min':0, 'max':7, 'palette':['#fde725', '#a0da39', '#4ac16d', '#1fa187', '#277f8e', '#365c8d', '#46327e', '#440154']}, \"Sen's slope CHIRPS\")\n",
    "Map.addLayer(smoothed_sens_slope_clustered, {'min':0, 'max':7, 'palette':['#fde725', '#a0da39', '#4ac16d', '#1fa187', '#277f8e', '#365c8d', '#46327e', '#440154']}, \"Smoothed Sen's slope CHIRPS\")\n",
    "Map"
   ]
  }
 ],
 "metadata": {
  "kernelspec": {
   "display_name": "Python 3",
   "language": "python",
   "name": "python3"
  },
  "language_info": {
   "codemirror_mode": {
    "name": "ipython",
    "version": 3
   },
   "file_extension": ".py",
   "mimetype": "text/x-python",
   "name": "python",
   "nbconvert_exporter": "python",
   "pygments_lexer": "ipython3",
   "version": "3.12.3"
  }
 },
 "nbformat": 4,
 "nbformat_minor": 5
}
